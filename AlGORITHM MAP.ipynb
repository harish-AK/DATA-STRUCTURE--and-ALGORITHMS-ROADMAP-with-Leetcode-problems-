{
 "cells": [
  {
   "cell_type": "markdown",
   "id": "b1cceadc",
   "metadata": {},
   "source": [
    "# Arrays and Strings"
   ]
  },
  {
   "cell_type": "code",
   "execution_count": 4,
   "id": "6068fb65",
   "metadata": {},
   "outputs": [
    {
     "data": {
      "text/plain": [
       "1"
      ]
     },
     "execution_count": 4,
     "metadata": {},
     "output_type": "execute_result"
    }
   ],
   "source": [
    "# 1\n",
    "# Closest number to zero\n",
    "# Given an integer array nums of size n, return the number with the value closest to 0 in nums. \n",
    "# If there are multiple answers, return the number with the largest value.\n",
    "# Example 1:\n",
    "\n",
    "# Input: nums = [-4,-2,1,4,8]\n",
    "# Output: 1\n",
    "# Explanation:\n",
    "# The distance from -4 to 0 is |-4| = 4.\n",
    "# The distance from -2 to 0 is |-2| = 2.\n",
    "# The distance from 1 to 0 is |1| = 1.\n",
    "# The distance from 4 to 0 is |4| = 4.\n",
    "# The distance from 8 to 0 is |8| = 8.\n",
    "# Thus, the closest number to 0 in the array is 1.\n",
    "# Example 2:\n",
    "\n",
    "# Input: nums = [2,-1,1]\n",
    "# Output: 1\n",
    "# Explanation: 1 and -1 are both the closest numbers to 0, so 1 being larger is returned.\n",
    "\n",
    "nums = [-4,-2,1,4,8]\n",
    "close = nums[0]\n",
    "for i in nums:\n",
    "    if abs(i) < abs(close):\n",
    "        close = i\n",
    "    elif abs(i) == abs(close) and i > close:\n",
    "        close = i\n",
    "close"
   ]
  },
  {
   "cell_type": "code",
   "execution_count": 15,
   "id": "3830b3f3",
   "metadata": {},
   "outputs": [
    {
     "data": {
      "text/plain": [
       "'apbqrs'"
      ]
     },
     "execution_count": 15,
     "metadata": {},
     "output_type": "execute_result"
    }
   ],
   "source": [
    "# 2\n",
    "# Merge string alternatevely\n",
    "# You are given two strings word1 and word2. Merge the strings by adding letters in alternating order, starting with word1. \n",
    "# If a string is longer than the other, append the additional letters onto the end of the merged string.\n",
    "# Return the merged string.\n",
    "# Example 1:\n",
    "\n",
    "# Input: word1 = \"abc\", word2 = \"pqr\"\n",
    "# Output: \"apbqcr\"\n",
    "# Explanation: The merged string will be merged as so:\n",
    "# word1:  a   b   c\n",
    "# word2:    p   q   r\n",
    "# merged: a p b q c r\n",
    "word1 = \"ab\"\n",
    "word2 = \"pqrs\"\n",
    "res = []\n",
    "i,j = 0,0\n",
    "while i <= len(word1)-1 or j <= len(word2)-1:\n",
    "    if len(word1)-1 >= i:\n",
    "        res.append(word1[i])\n",
    "        i += 1\n",
    "    if len(word2)-1 >= j:\n",
    "        res.append(word2[j])\n",
    "        j += 1\n",
    "\"\".join(res)"
   ]
  },
  {
   "cell_type": "code",
   "execution_count": 24,
   "id": "d6025ac1",
   "metadata": {},
   "outputs": [
    {
     "name": "stdout",
     "output_type": "stream",
     "text": [
      "1994\n",
      "[5, -1, 100, -10, 1000, -100, 1000]\n"
     ]
    }
   ],
   "source": [
    "# 3\n",
    "# Roman to integer\n",
    "# Roman numerals are represented by seven different symbols: I, V, X, L, C, D and M.\n",
    "# Symbol       Value\n",
    "# I             1\n",
    "# V             5\n",
    "# X             10\n",
    "# L             50\n",
    "# C             100\n",
    "# D             500\n",
    "# M             1000\n",
    "# For example, 2 is written as II in Roman numeral, just two ones added together. 12 is written as XII, \n",
    "# which is simply X + II. The number 27 is written as XXVII, which is XX + V + II.\n",
    "# Roman numerals are usually written largest to smallest from left to right. However, \n",
    "# the numeral for four is not IIII. Instead, the number four is written as IV. \n",
    "# Because the one is before the five we subtract it making four. The same principle applies to the number nine, \n",
    "# which is written as IX. There are six instances where subtraction is used:\n",
    "# I can be placed before V (5) and X (10) to make 4 and 9. \n",
    "# X can be placed before L (50) and C (100) to make 40 and 90. \n",
    "# C can be placed before D (500) and M (1000) to make 400 and 900.\n",
    "# Given a roman numeral, convert it to an integer.\n",
    "\n",
    "# Example 1:\n",
    "\n",
    "# Input: s = \"III\"\n",
    "# Output: 3\n",
    "# Explanation: III = 3.\n",
    "\n",
    "s = \"MCMXCIV\"\n",
    "prev=0\n",
    "l=[]\n",
    "dic={'I':1,'V':5,'X':10,'L':50,'C':100,'D':500,'M':1000}\n",
    "for i in reversed(s):\n",
    "    val = dic[i]\n",
    "    if val < prev:\n",
    "        l.append(-val)\n",
    "    else:\n",
    "        l.append(val)\n",
    "    prev = val\n",
    "print(sum(l))\n",
    "print(l)      "
   ]
  },
  {
   "cell_type": "code",
   "execution_count": 7,
   "id": "9beac810",
   "metadata": {},
   "outputs": [
    {
     "name": "stdout",
     "output_type": "stream",
     "text": [
      "True\n"
     ]
    }
   ],
   "source": [
    "# 4\n",
    "# Given two strings s and t, return true if s is a subsequence of t, or false otherwise.\n",
    "# A subsequence of a string is a new string that is formed from the original string by deleting some (can be none) \n",
    "# of the characters without disturbing the relative positions of the remaining characters. \n",
    "# (i.e., \"ace\" is a subsequence of \"abcde\" while \"aec\" is not).\n",
    "\n",
    "# Example 1:\n",
    "\n",
    "# Input: s = \"abc\", t = \"ahbgdc\"\n",
    "# Output: true\n",
    "s = \"b\"\n",
    "t = \"abc\"\n",
    "i = 0  \n",
    "j = 0  \n",
    "\n",
    "while j < len(t) and i < len(s):\n",
    "    if i < len(s) and s[i] == t[j]:\n",
    "        i += 1\n",
    "    j += 1\n",
    "\n",
    "print(True if i == len(s) else False)"
   ]
  },
  {
   "cell_type": "code",
   "execution_count": 18,
   "id": "10321c3a",
   "metadata": {},
   "outputs": [
    {
     "data": {
      "text/plain": [
       "2"
      ]
     },
     "execution_count": 18,
     "metadata": {},
     "output_type": "execute_result"
    }
   ],
   "source": [
    "# 5\n",
    "# best time to buy and sell stocks\n",
    "# You are given an array prices where prices[i] is the price of a given stock on the ith day.\n",
    "# You want to maximize your profit by choosing a single day to buy one stock and choosing a different day in the \n",
    "# future to sell that stock.\n",
    "# Return the maximum profit you can achieve from this transaction. If you cannot achieve any profit, return 0.\n",
    "\n",
    "# Example 1:\n",
    "\n",
    "# Input: prices = [7,1,5,3,6,4]\n",
    "# Output: 5\n",
    "# Explanation: Buy on day 2 (price = 1) and sell on day 5 (price = 6), profit = 6-1 = 5.\n",
    "# Note that buying on day 2 and selling on day 1 is not allowed because you must buy before you sell.\n",
    "\n",
    "prices = [2,4,1]\n",
    "buy = prices[0]\n",
    "profit = 0\n",
    "for i in prices:\n",
    "    if buy > i:\n",
    "        buy = i\n",
    "    profit = max(profit,i-buy)\n",
    "profit"
   ]
  },
  {
   "cell_type": "code",
   "execution_count": 26,
   "id": "12465b4f",
   "metadata": {},
   "outputs": [
    {
     "name": "stdout",
     "output_type": "stream",
     "text": [
      "fl\n",
      "fl\n",
      "fl\n",
      "fl\n"
     ]
    },
    {
     "data": {
      "text/plain": [
       "'fl'"
      ]
     },
     "execution_count": 26,
     "metadata": {},
     "output_type": "execute_result"
    }
   ],
   "source": [
    "# 6\n",
    "# longest common prefix\n",
    "# Write a function to find the longest common prefix string amongst an array of strings.\n",
    "# If there is no common prefix, return an empty string \"\".\n",
    "\n",
    "# Example 1:\n",
    "\n",
    "# Input: strs = [\"flower\",\"flow\",\"flight\"]\n",
    "# Output: \"fl\"\n",
    "\n",
    "strs = [\"flower\",\"flow\",\"flight\"]\n",
    "res = \"\"\n",
    "sor = sorted(strs) # ['flight', 'flow', 'flower']\n",
    "first = sor[0]\n",
    "last = sor[-1]\n",
    "for i in range(min(len(first),len(last))):\n",
    "    if first[i] != last[i]:\n",
    "        print(res)\n",
    "    else:\n",
    "        res += first[i]\n",
    "res"
   ]
  },
  {
   "cell_type": "code",
   "execution_count": 27,
   "id": "bcd0eb93",
   "metadata": {},
   "outputs": [
    {
     "data": {
      "text/plain": [
       "['0->2', '4->5', '7']"
      ]
     },
     "execution_count": 27,
     "metadata": {},
     "output_type": "execute_result"
    }
   ],
   "source": [
    "# 7\n",
    "# Summary ranges\n",
    "# You are given a sorted unique integer array nums.\n",
    "# A range [a,b] is the set of all integers from a to b (inclusive).\n",
    "# Return the smallest sorted list of ranges that cover all the numbers in the array exactly. \n",
    "# That is, each element of nums is covered by exactly one of the ranges, and there is no integer x \n",
    "# such that x is in one of the ranges but not in nums.\n",
    "# Each range [a,b] in the list should be output as:\n",
    "# \"a->b\" if a != b\n",
    "# \"a\" if a == b\n",
    " \n",
    "# Example 1:\n",
    "\n",
    "# Input: nums = [0,1,2,4,5,7]\n",
    "# Output: [\"0->2\",\"4->5\",\"7\"]\n",
    "# Explanation: The ranges are:\n",
    "# [0,2] --> \"0->2\"\n",
    "# [4,5] --> \"4->5\"\n",
    "# [7,7] --> \"7\"\n",
    "\n",
    "nums = [0,1,2,4,5,7]\n",
    "i = 0\n",
    "ans = []\n",
    "while i < len(nums):\n",
    "    st = nums[i]\n",
    "    while i < len(nums)-1 and nums[i]+1 == nums[i+1]:\n",
    "        i += 1\n",
    "    if st != nums[i]:\n",
    "        ans.append(str(st) + \"->\" + str(nums[i]))\n",
    "    else:\n",
    "        ans.append(str(nums[i]))\n",
    "    i += 1\n",
    "ans"
   ]
  },
  {
   "cell_type": "code",
   "execution_count": 28,
   "id": "4479199d",
   "metadata": {},
   "outputs": [],
   "source": [
    "# 8\n",
    "# product of array except self\n",
    "# Given an integer array nums, return an array answer such that answer[i] is equal to the product of all the elements \n",
    "# of nums except nums[i].\n",
    "# The product of any prefix or suffix of nums is guaranteed to fit in a 32-bit integer.\n",
    "# You must write an algorithm that runs in O(n) time and without using the division operation.\n",
    "\n",
    "# Example 1:\n",
    "# Input: nums = [1,2,3,4]\n",
    "# Output: [24,12,8,6]\n",
    "\n",
    "nums = [1,2,3,4]\n"
   ]
  },
  {
   "cell_type": "code",
   "execution_count": null,
   "id": "2a68858f",
   "metadata": {},
   "outputs": [],
   "source": []
  }
 ],
 "metadata": {
  "kernelspec": {
   "display_name": "Python 3 (ipykernel)",
   "language": "python",
   "name": "python3"
  },
  "language_info": {
   "codemirror_mode": {
    "name": "ipython",
    "version": 3
   },
   "file_extension": ".py",
   "mimetype": "text/x-python",
   "name": "python",
   "nbconvert_exporter": "python",
   "pygments_lexer": "ipython3",
   "version": "3.11.5"
  }
 },
 "nbformat": 4,
 "nbformat_minor": 5
}
